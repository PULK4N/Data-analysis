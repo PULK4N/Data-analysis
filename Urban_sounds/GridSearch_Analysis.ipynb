{
 "cells": [
  {
   "cell_type": "code",
   "execution_count": 18,
   "id": "d69ad060",
   "metadata": {},
   "outputs": [],
   "source": [
    "import numpy as np\n",
    "import pandas as pd\n",
    "import matplotlib.pyplot as plt\n",
    "import seaborn as sns\n",
    "import copy\n",
    "import time\n",
    "\n",
    "from sklearn.decomposition import PCA\n",
    "from sklearn.model_selection import train_test_split, StratifiedKFold, GridSearchCV, RandomizedSearchCV\n",
    "from sklearn.preprocessing import StandardScaler\n",
    "from sklearn.metrics import ConfusionMatrixDisplay\n",
    "from sklearn.linear_model import LogisticRegression\n",
    "from sklearn.neural_network import MLPClassifier\n",
    "from sklearn.neighbors import KNeighborsClassifier\n",
    "from sklearn.pipeline import Pipeline\n",
    "np.random.seed(42)\n",
    "\n",
    "%matplotlib inline"
   ]
  },
  {
   "cell_type": "code",
   "execution_count": 19,
   "id": "1f7371b3",
   "metadata": {},
   "outputs": [],
   "source": [
    "TEST_SIZE = 0.9"
   ]
  },
  {
   "cell_type": "code",
   "execution_count": 20,
   "id": "d57e4634",
   "metadata": {},
   "outputs": [],
   "source": [
    "%run 'Params.ipynb'"
   ]
  },
  {
   "cell_type": "code",
   "execution_count": 21,
   "id": "50dc06c8",
   "metadata": {},
   "outputs": [],
   "source": [
    "df = pd.read_csv('urban_sound.csv')"
   ]
  },
  {
   "cell_type": "code",
   "execution_count": 22,
   "id": "9faba7a6",
   "metadata": {},
   "outputs": [],
   "source": [
    "X = copy.copy(df.drop('class',axis=1))\n",
    "y = copy.copy(df['class'])"
   ]
  },
  {
   "cell_type": "code",
   "execution_count": 23,
   "id": "57bef26d",
   "metadata": {},
   "outputs": [],
   "source": [
    "X_train, X_test, y_train, y_test = train_test_split(X, y, test_size=TEST_SIZE, random_state=41)"
   ]
  },
  {
   "cell_type": "markdown",
   "id": "1cd05b33",
   "metadata": {},
   "source": [
    "## Neural network classifier"
   ]
  },
  {
   "cell_type": "code",
   "execution_count": 24,
   "id": "3fdcb8f4",
   "metadata": {},
   "outputs": [],
   "source": [
    "pipe_nn = Pipeline(steps=[('scaler',StandardScaler()),('mlp', MLPClassifier())]) "
   ]
  },
  {
   "cell_type": "code",
   "execution_count": 25,
   "id": "fbb7f4ab",
   "metadata": {},
   "outputs": [],
   "source": [
    "nn_hyperparameters = get_nn_hyperparams()"
   ]
  },
  {
   "cell_type": "code",
   "execution_count": 26,
   "id": "3c573880",
   "metadata": {},
   "outputs": [],
   "source": [
    "nn_rgrid = GridSearchCV(pipe_nn,cv=10, param_grid=nn_hyperparameters,scoring='f1_micro', n_jobs=4)"
   ]
  },
  {
   "cell_type": "code",
   "execution_count": null,
   "id": "27232de6",
   "metadata": {},
   "outputs": [],
   "source": [
    "start = time.time()\n",
    "nn_rgrid.fit(X_train,y_train)\n",
    "end = time.time()\n",
    "print(end - start)"
   ]
  },
  {
   "cell_type": "markdown",
   "id": "1f1ccfe4",
   "metadata": {},
   "source": [
    "## Logistic regression"
   ]
  },
  {
   "cell_type": "code",
   "execution_count": null,
   "id": "aadf7abe",
   "metadata": {},
   "outputs": [],
   "source": [
    "lgr_hyperparameters = get_lgr_hyperparams()"
   ]
  },
  {
   "cell_type": "code",
   "execution_count": null,
   "id": "b52e8b86",
   "metadata": {},
   "outputs": [],
   "source": [
    "pipe_lgr = Pipeline(steps=[('scaler',StandardScaler()),('lgr', LogisticRegression())]) "
   ]
  },
  {
   "cell_type": "code",
   "execution_count": null,
   "id": "201abba9",
   "metadata": {},
   "outputs": [],
   "source": [
    "lgr_rgrid = GridSearchCV(pipe_lgr,cv=10, param_grid=lgr_hyperparameters,scoring='f1_micro', n_jobs=4)"
   ]
  },
  {
   "cell_type": "code",
   "execution_count": null,
   "id": "fc8c608a",
   "metadata": {},
   "outputs": [],
   "source": [
    "start = time.time()\n",
    "lgr_rgrid.fit(X_train,y_train)\n",
    "end = time.time()\n",
    "print(end - start)"
   ]
  },
  {
   "cell_type": "markdown",
   "id": "f85b5b0f",
   "metadata": {},
   "source": [
    "## K nearest neighbors"
   ]
  },
  {
   "cell_type": "code",
   "execution_count": null,
   "id": "abc81322",
   "metadata": {},
   "outputs": [],
   "source": [
    "knn_hyperparameters = get_knn_hyperparams(df)"
   ]
  },
  {
   "cell_type": "code",
   "execution_count": null,
   "id": "b52e8b86",
   "metadata": {},
   "outputs": [],
   "source": [
    "pipe_knn = Pipeline(steps=[('scaler',StandardScaler()),('knn', KNeighborsClassifier())]) "
   ]
  },
  {
   "cell_type": "code",
   "execution_count": null,
   "id": "201abba9",
   "metadata": {},
   "outputs": [],
   "source": [
    "knn_rgrid = GridSearchCV(pipe_knn,cv=10, param_grid=knn_hyperparameters,scoring='f1_micro', n_jobs=4)"
   ]
  },
  {
   "cell_type": "code",
   "execution_count": null,
   "id": "fc8c608a",
   "metadata": {},
   "outputs": [
    {
     "name": "stdout",
     "output_type": "stream",
     "text": [
      "0.9952206611633301\n"
     ]
    }
   ],
   "source": [
    "start = time.time()\n",
    "knn_rgrid.fit(X_train,y_train)\n",
    "end = time.time()\n",
    "print(end - start)"
   ]
  },
  {
   "cell_type": "markdown",
   "id": "4f2e0f5a",
   "metadata": {},
   "source": [
    "# Predictions"
   ]
  },
  {
   "cell_type": "code",
   "execution_count": null,
   "id": "35acacb0",
   "metadata": {},
   "outputs": [
    {
     "data": {
      "text/plain": [
       "0.7101390024529844"
      ]
     },
     "metadata": {},
     "output_type": "display_data"
    }
   ],
   "source": [
    "nn_rgrid.score(X_test,y_test)"
   ]
  },
  {
   "cell_type": "code",
   "execution_count": null,
   "id": "1fcdc6ea",
   "metadata": {},
   "outputs": [
    {
     "data": {
      "text/plain": [
       "0.6289860997547015"
      ]
     },
     "metadata": {},
     "output_type": "display_data"
    }
   ],
   "source": [
    "lgr_rgrid.score(X_test,y_test)"
   ]
  },
  {
   "cell_type": "code",
   "execution_count": null,
   "id": "b80f428b",
   "metadata": {},
   "outputs": [
    {
     "data": {
      "text/plain": [
       "0.5999591169255928"
      ]
     },
     "metadata": {},
     "output_type": "display_data"
    }
   ],
   "source": [
    "knn_rgrid.score(X_test,y_test)"
   ]
  }
 ],
 "metadata": {
  "interpreter": {
   "hash": "230bef5b514ce437b5488a525b693e75c88242c0d1961156318b432bfc7cdca6"
  },
  "kernelspec": {
   "display_name": "Python 3.9.7 64-bit ('base': conda)",
   "language": "python",
   "name": "python3"
  },
  "language_info": {
   "codemirror_mode": {
    "name": "ipython",
    "version": 3
   },
   "file_extension": ".py",
   "mimetype": "text/x-python",
   "name": "python",
   "nbconvert_exporter": "python",
   "pygments_lexer": "ipython3",
   "version": "3.9.7"
  }
 },
 "nbformat": 4,
 "nbformat_minor": 5
}
